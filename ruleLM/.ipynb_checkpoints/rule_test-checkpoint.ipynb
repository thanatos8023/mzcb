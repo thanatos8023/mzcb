{
 "cells": [
  {
   "cell_type": "code",
   "execution_count": 1,
   "metadata": {},
   "outputs": [],
   "source": [
    "target_syl = {\n",
    "    'SmallTalk_DoingWhat': [\n",
    "            {\n",
    "                ('뭐', 'IC'),\n",
    "                ('머', 'NP'),\n",
    "            },\n",
    "            {\n",
    "                ('해', 'VV+EC'), \n",
    "                ('해', 'VV+EF'),\n",
    "                ('있', 'VX'),\n",
    "                ('냐', 'EF'),\n",
    "                ('냐', 'EC')\n",
    "            }\n",
    "        ],\n",
    "        \n",
    "}"
   ]
  },
  {
   "cell_type": "code",
   "execution_count": 2,
   "metadata": {},
   "outputs": [],
   "source": [
    "from eunjeon import Mecab\n",
    "import re\n",
    "import json\n",
    "import os\n",
    "import glob\n",
    "import pickle\n",
    "\n",
    "\n",
    "class Model():\n",
    "    def __init__(self, req):\n",
    "        self.mecab = Mecab()\n",
    "\n",
    "        req_body = json.loads(req)\n",
    "\n",
    "        self.utt = req_body['utt']\n",
    "        self.code = req_body['code']\n",
    "        self.user_key = req_body['user_key']\n",
    "\n",
    "        self.pos = self.mecab.pos(self.utt)\n",
    "\n",
    "        self.target_syl = target_syl\n",
    "\n",
    "        # Kakao button inputs\n",
    "        # Input message fixed.\n",
    "        #self.buttons_response = pickle.load()\n",
    "\n",
    "        # Responses for intentions or buttons to Chatbot api (Dictionary object)\n",
    "        # key: intention\n",
    "        # value: response object(json)\n",
    "        # The response form is json\n",
    "\n",
    "    def __get_intention__(self):\n",
    "        intention = self.__get_intention_from_lm__()\n",
    "\n",
    "        if intention:\n",
    "            return intention\n",
    "        else:\n",
    "            return \"Fail\"\n",
    "\n",
    "    def __get_intention_from_lm__(self):\n",
    "        # Searching in intentions\n",
    "        for key in self.target_syl:\n",
    "            matched_case = 0\n",
    "            for necset in self.target_syl[key]:\n",
    "                # There are set of morphs\n",
    "                # mached\n",
    "                matched = necset & set(self.pos)\n",
    "                if not matched:\n",
    "                    break\n",
    "                else:\n",
    "                    matched_case += 1\n",
    "\n",
    "            if matched_case == len(self.target_syl[key]):\n",
    "                # This case, the utterance is in this intention\n",
    "                return key\n",
    "\n",
    "        return None"
   ]
  },
  {
   "cell_type": "code",
   "execution_count": 3,
   "metadata": {},
   "outputs": [
    {
     "name": "stdout",
     "output_type": "stream",
     "text": [
      "Error rate: 0.157895\n",
      "\n",
      "--- Error cases\n",
      "너 뭐하냐\n",
      "머하냐\n",
      "머 하냐\n"
     ]
    }
   ],
   "source": [
    "result = {\n",
    "    'Success': [],\n",
    "    'Fail': []\n",
    "}\n",
    "\n",
    "for fn in glob.glob('corpus/SmallTalk_DoingWhat*'):\n",
    "    with open(fn, 'r', encoding='utf-8') as f:\n",
    "        raw = f.read().split('\\n')\n",
    "        \n",
    "    for sent in raw:\n",
    "        req = {\n",
    "            'utt': sent,\n",
    "            'code': 7000,\n",
    "            'user_key': 'asdfqew52'\n",
    "        }\n",
    "        \n",
    "        m = Model(json.dumps(req))\n",
    "        intention = m.__get_intention__()\n",
    "        \n",
    "        if intention == 'Fail':\n",
    "            result['Fail'].append((intention, sent))\n",
    "        else:\n",
    "            result['Success'].append((intention, sent))\n",
    "            \n",
    "\n",
    "    \n",
    "print('Error rate: %f' % (len(result['Fail']) / len(raw)))\n",
    "print()\n",
    "print('--- Error cases')\n",
    "for fail in result['Fail']:\n",
    "    print(fail[1])"
   ]
  },
  {
   "cell_type": "code",
   "execution_count": 5,
   "metadata": {},
   "outputs": [
    {
     "data": {
      "text/plain": [
       "[('머', 'NP'), ('하', 'VV'), ('냐', 'EC')]"
      ]
     },
     "execution_count": 5,
     "metadata": {},
     "output_type": "execute_result"
    }
   ],
   "source": [
    "mecab = Mecab()\n",
    "mecab.pos('머하냐')"
   ]
  },
  {
   "cell_type": "code",
   "execution_count": null,
   "metadata": {},
   "outputs": [],
   "source": []
  }
 ],
 "metadata": {
  "kernelspec": {
   "display_name": "Python 3",
   "language": "python",
   "name": "python3"
  },
  "language_info": {
   "codemirror_mode": {
    "name": "ipython",
    "version": 3
   },
   "file_extension": ".py",
   "mimetype": "text/x-python",
   "name": "python",
   "nbconvert_exporter": "python",
   "pygments_lexer": "ipython3",
   "version": "3.6.5"
  }
 },
 "nbformat": 4,
 "nbformat_minor": 2
}
