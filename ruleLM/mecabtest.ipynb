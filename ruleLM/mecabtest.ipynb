{
 "cells": [
  {
   "cell_type": "code",
   "execution_count": 2,
   "metadata": {},
   "outputs": [],
   "source": [
    "from eunjeon import Mecab\n",
    "import nltk\n",
    "import glob"
   ]
  },
  {
   "cell_type": "code",
   "execution_count": 2,
   "metadata": {},
   "outputs": [
    {
     "name": "stdout",
     "output_type": "stream",
     "text": [
      "1\n"
     ]
    }
   ],
   "source": [
    "filelist = glob.glob('corpus/FAQ_EmergencyGas*.txt')\n",
    "print(len(filelist))"
   ]
  },
  {
   "cell_type": "code",
   "execution_count": 3,
   "metadata": {},
   "outputs": [
    {
     "name": "stdout",
     "output_type": "stream",
     "text": [
      "9\n"
     ]
    }
   ],
   "source": [
    "raw = []\n",
    "for fn in filelist:\n",
    "    with open(fn, 'r', encoding='utf-8') as f:\n",
    "        raw += f.read().split('\\n')\n",
    "\n",
    "print(len(raw))"
   ]
  },
  {
   "cell_type": "code",
   "execution_count": 4,
   "metadata": {},
   "outputs": [
    {
     "name": "stdout",
     "output_type": "stream",
     "text": [
      "64\n"
     ]
    }
   ],
   "source": [
    "mecab = Mecab()\n",
    "all_morph = []\n",
    "for sen in raw:\n",
    "    #print(mecab.morphs(sen))\n",
    "    all_morph += mecab.pos(sen)\n",
    "\n",
    "print(len(all_morph))"
   ]
  },
  {
   "cell_type": "code",
   "execution_count": 5,
   "metadata": {},
   "outputs": [
    {
     "name": "stdout",
     "output_type": "stream",
     "text": [
      "[(('전화', 'NNG'), 9), (('번호', 'NNG'), 9), (('확인', 'NNG'), 7), (('블루', 'NNP'), 5), (('링크', 'NNG'), 5), (('는', 'JX'), 4), (('차량', 'NNG'), 4), (('하', 'XSV'), 3), (('해', 'XSV+EC'), 3), (('어디', 'NP'), 2), (('서', 'JKB'), 2), (('어떻게', 'MAG'), 2), (('를', 'JKO'), 2), (('고', 'EC'), 2), (('싶', 'VX'), 2), (('어', 'EC'), 2), (('나요', 'EC'), 1)]\n"
     ]
    }
   ],
   "source": [
    "tmp = nltk.FreqDist(m for m in all_morph)\n",
    "print(tmp.most_common(50))"
   ]
  },
  {
   "cell_type": "code",
   "execution_count": 6,
   "metadata": {},
   "outputs": [
    {
     "data": {
      "text/plain": [
       "17"
      ]
     },
     "execution_count": 6,
     "metadata": {},
     "output_type": "execute_result"
    }
   ],
   "source": [
    "len(tmp.keys())"
   ]
  },
  {
   "cell_type": "code",
   "execution_count": 7,
   "metadata": {
    "scrolled": true
   },
   "outputs": [
    {
     "name": "stdout",
     "output_type": "stream",
     "text": [
      "블루 NNP 5\n",
      "링크 NNG 5\n",
      "전화 NNG 9\n",
      "번호 NNG 9\n",
      "어디 NP 2\n",
      "확인 NNG 7\n",
      "차량 NNG 4\n"
     ]
    }
   ],
   "source": [
    "for word, tag in tmp.keys():\n",
    "    if tag[0] == 'N':\n",
    "        print(word, tag, tmp[(word, tag)])"
   ]
  },
  {
   "cell_type": "code",
   "execution_count": 8,
   "metadata": {},
   "outputs": [
    {
     "name": "stdout",
     "output_type": "stream",
     "text": [
      "는 JX 4\n",
      "서 JKB 2\n",
      "하 XSV 3\n",
      "나요 EC 1\n",
      "어떻게 MAG 2\n",
      "해 XSV+EC 3\n",
      "를 JKO 2\n",
      "고 EC 2\n",
      "싶 VX 2\n",
      "어 EC 2\n"
     ]
    }
   ],
   "source": [
    "for word, tag in tmp.keys():\n",
    "    if tag[0] != 'N':\n",
    "        print(word, tag, tmp[(word, tag)])"
   ]
  },
  {
   "cell_type": "code",
   "execution_count": 8,
   "metadata": {},
   "outputs": [
    {
     "data": {
      "text/plain": [
       "[('ㅜㅠ', 'UNKNOWN')]"
      ]
     },
     "execution_count": 8,
     "metadata": {},
     "output_type": "execute_result"
    }
   ],
   "source": [
    "mecab.pos('ㅜㅠ')"
   ]
  },
  {
   "cell_type": "code",
   "execution_count": 76,
   "metadata": {},
   "outputs": [
    {
     "name": "stdout",
     "output_type": "stream",
     "text": [
      "0\n"
     ]
    }
   ],
   "source": [
    "set1 = {1, 2, 3, 4, 5}\n",
    "set2 = {1, 2, 3}\n",
    "\n",
    "set3 = set2 - set1\n",
    "\n",
    "if set3:\n",
    "    print(len(set3))\n",
    "else:\n",
    "    print(len(set3))"
   ]
  },
  {
   "cell_type": "code",
   "execution_count": 148,
   "metadata": {},
   "outputs": [
    {
     "name": "stdout",
     "output_type": "stream",
     "text": [
      "{}\n"
     ]
    }
   ],
   "source": [
    "d1 = {'a': 0, 'b': {}}\n",
    "\n",
    "print(d1['b'])"
   ]
  },
  {
   "cell_type": "code",
   "execution_count": 16,
   "metadata": {},
   "outputs": [
    {
     "name": "stdout",
     "output_type": "stream",
     "text": [
      "블루 NNP 162\n",
      "링크 NNG 162\n",
      "가입 NNG 216\n",
      "정보 NNG 324\n",
      "변경 NNG 108\n",
      "방법 NNG 72\n",
      "정정 NNG 108\n",
      "수정 NNG 108\n",
      "\n",
      "하 XSV 144\n",
      "고 EC 144\n",
      "싶 VX 144\n",
      "어 EC 72\n",
      "할래 XSV+EC 18\n",
      "해 XSV+EC 18\n",
      "줘 VX+EC 18\n",
      "요 VCP+EC 54\n",
      "어요 EF 72\n",
      "할래요 XSV+EC 18\n",
      "해줘요 XSV+EC+VX+EC 18\n"
     ]
    }
   ],
   "source": [
    "filelist = glob.glob('corpus/FAQ_UpdateUserInfo*')\n",
    "#print(len(filelist))\n",
    "\n",
    "raw = []\n",
    "for fn in filelist:\n",
    "    with open(fn, 'r', encoding='utf-8') as f:\n",
    "        raw += f.read().split('\\n')\n",
    "\n",
    "#print(len(raw))\n",
    "\n",
    "mecab = Mecab()\n",
    "all_morph = []\n",
    "for sen in raw:\n",
    "    #print(mecab.morphs(sen))\n",
    "    all_morph += mecab.pos(sen)\n",
    "\n",
    "#print(len(all_morph))\n",
    "\n",
    "tmp = nltk.FreqDist(m for m in all_morph)\n",
    "#print(tmp.most_common(50))\n",
    "\n",
    "for word, tag in tmp.keys():\n",
    "    if tag[0] == 'N':\n",
    "        print(word, tag, tmp[(word, tag)])\n",
    "\n",
    "print()\n",
    "\n",
    "for word, tag in tmp.keys():\n",
    "    if tag[0] != 'N':\n",
    "        print(word, tag, tmp[(word, tag)])"
   ]
  },
  {
   "cell_type": "code",
   "execution_count": null,
   "metadata": {},
   "outputs": [],
   "source": []
  }
 ],
 "metadata": {
  "kernelspec": {
   "display_name": "Python 3",
   "language": "python",
   "name": "python3"
  },
  "language_info": {
   "codemirror_mode": {
    "name": "ipython",
    "version": 3
   },
   "file_extension": ".py",
   "mimetype": "text/x-python",
   "name": "python",
   "nbconvert_exporter": "python",
   "pygments_lexer": "ipython3",
   "version": "3.6.5"
  }
 },
 "nbformat": 4,
 "nbformat_minor": 2
}
